{
 "cells": [
  {
   "cell_type": "markdown",
   "id": "910383d4-8990-46c5-80c1-9c7af5c780d9",
   "metadata": {},
   "source": [
    "Q1. Which function is used to open a file? What are the different modes of opening a file? Explain each mode\n",
    "of file opening."
   ]
  },
  {
   "cell_type": "code",
   "execution_count": null,
   "id": "ca770c19-789b-4f72-ba45-0d9b909754f2",
   "metadata": {},
   "outputs": [],
   "source": [
    "Ans :fopen() function"
   ]
  },
  {
   "cell_type": "markdown",
   "id": "24f7c902-0c71-4327-af28-a47b80092719",
   "metadata": {},
   "source": [
    "r - open a file in read mode.\n",
    "w - opens or create a text file in write mode.\n",
    "a - opens a file in append mode.\n",
    "r+ - opens a file in both read and write mode.\n",
    "a+ - opens a file in both read and write mode.\n",
    "w+ - opens a file in both read and write mode."
   ]
  },
  {
   "cell_type": "markdown",
   "id": "c6fceaed-3ad0-429b-9ef3-010407df3655",
   "metadata": {},
   "source": [
    "Q2. Why close() function is used? Why is it important to close a file?"
   ]
  },
  {
   "cell_type": "markdown",
   "id": "97c4afad-12e3-4df2-832b-eeedb46bbedf",
   "metadata": {},
   "source": [
    "Ans :The close() method closes an open file. You should always close your files, in some cases, due to buffering, changes made to a file may not show until you close the file"
   ]
  },
  {
   "cell_type": "markdown",
   "id": "fd5f7db5-4e23-4d78-bf11-112db847ac49",
   "metadata": {},
   "source": [
    "Q3. Write a python program to create a text file. Write ‘I want to become a Data Scientist’ in that file. Then\n",
    "close the file. Open this file and read the content of the file."
   ]
  },
  {
   "cell_type": "code",
   "execution_count": 1,
   "id": "3a419aea-53a7-4749-b796-41997144a498",
   "metadata": {},
   "outputs": [],
   "source": [
    "f=open(\"test2.txt\",'w')"
   ]
  },
  {
   "cell_type": "code",
   "execution_count": 2,
   "id": "b94787fc-061e-49d5-b115-6fad787c6531",
   "metadata": {},
   "outputs": [
    {
     "data": {
      "text/plain": [
       "33"
      ]
     },
     "execution_count": 2,
     "metadata": {},
     "output_type": "execute_result"
    }
   ],
   "source": [
    "f.write(\"I want to become a Data Scientist\")"
   ]
  },
  {
   "cell_type": "code",
   "execution_count": 3,
   "id": "77db0ef3-ef59-4121-8737-8f1c4f754191",
   "metadata": {},
   "outputs": [],
   "source": [
    "f.close()"
   ]
  },
  {
   "cell_type": "code",
   "execution_count": 4,
   "id": "327b41a1-b2fc-422a-a3ba-05409ef3a3fc",
   "metadata": {},
   "outputs": [],
   "source": [
    "f=open(\"test2.txt\",'r')"
   ]
  },
  {
   "cell_type": "code",
   "execution_count": 5,
   "id": "9405b4a8-170b-47bd-b726-2a66c2c106d4",
   "metadata": {},
   "outputs": [
    {
     "data": {
      "text/plain": [
       "'I want to become a Data Scientist'"
      ]
     },
     "execution_count": 5,
     "metadata": {},
     "output_type": "execute_result"
    }
   ],
   "source": [
    "f.read()"
   ]
  },
  {
   "cell_type": "markdown",
   "id": "8da19766-fe09-466e-987d-c2cfa64eb998",
   "metadata": {},
   "source": [
    "Q4. Explain the following with python code: read(), readline() and readlines()."
   ]
  },
  {
   "cell_type": "markdown",
   "id": "3090e2e9-2a4e-4869-9981-bcc71c3e3297",
   "metadata": {},
   "source": [
    "Ans :Read ( ): Returns the read bytes in the form of a string. ...\n",
    "Readline ( ): Reads a line of the file and returns in the form of a string. ...\n",
    "readlines ( ): Reads all the lines and returns them as a string element in a list."
   ]
  },
  {
   "cell_type": "markdown",
   "id": "56399411-6db8-4154-bb0b-5b1e84375d4e",
   "metadata": {},
   "source": [
    "Q5. Explain why with statement is used with open(). What is the advantage of using with statement and\n",
    "open() together?"
   ]
  },
  {
   "cell_type": "markdown",
   "id": "d5a5ceed-9496-4a38-9e38-d45c78f8e7ff",
   "metadata": {},
   "source": [
    "Ans :The with statement works with the open() function to open a file. Unlike open() where you have to close the file with the close() method, the with statement closes the file for you without you telling it to."
   ]
  },
  {
   "cell_type": "markdown",
   "id": "c0b096c6-4d52-46b7-ba75-b0cdb46785aa",
   "metadata": {},
   "source": [
    "Q6. Explain the write() and writelines() functions. Give a suitable example."
   ]
  },
  {
   "cell_type": "markdown",
   "id": "6e1c0a6e-5817-45de-a0fb-38f0b3b92c15",
   "metadata": {},
   "source": [
    "Ans :write() method takes a string as an argument and writes it to the text file.\n",
    "writelines() method is used to write multiple strings to a file."
   ]
  },
  {
   "cell_type": "code",
   "execution_count": null,
   "id": "e26d81e1-86f0-462e-997e-f66fb84e5786",
   "metadata": {},
   "outputs": [
    {
     "name": "stdin",
     "output_type": "stream",
     "text": [
      "Enter the name of the employee:  Vinayk\n"
     ]
    }
   ],
   "source": [
    "file = open(\"Employees.txt\", \"w\")\n",
    "\n",
    "for i in range(3):\n",
    "    name = input(\"Enter the name of the employee: \")\n",
    "    file.write(name)\n",
    "    file.write(\"\\n\")\n",
    "\t\n",
    "file.close()\n",
    "\n",
    "print(\"Data is written into the file.\")\n"
   ]
  },
  {
   "cell_type": "code",
   "execution_count": null,
   "id": "506671e8-242a-4e11-83ab-3a062e04bae9",
   "metadata": {},
   "outputs": [
    {
     "name": "stdin",
     "output_type": "stream",
     "text": [
      "Enter the name of the employee:  Vaibhav\n"
     ]
    }
   ],
   "source": [
    "file1 = open(\"Employees.txt\", \"w\")\n",
    "lst = []\n",
    "for i in range(3):\n",
    "\tname = input(\"Enter the name of the employee: \")\n",
    "\tlst.append(name + '\\n')\n",
    "\t\n",
    "file1.writelines(lst)\n",
    "file1.close()\n",
    "print(\"Data is written into the file.\")\n"
   ]
  },
  {
   "cell_type": "code",
   "execution_count": null,
   "id": "eecff81e-078d-4968-bf21-054ec0008951",
   "metadata": {},
   "outputs": [],
   "source": []
  }
 ],
 "metadata": {
  "kernelspec": {
   "display_name": "Python 3 (ipykernel)",
   "language": "python",
   "name": "python3"
  },
  "language_info": {
   "codemirror_mode": {
    "name": "ipython",
    "version": 3
   },
   "file_extension": ".py",
   "mimetype": "text/x-python",
   "name": "python",
   "nbconvert_exporter": "python",
   "pygments_lexer": "ipython3",
   "version": "3.10.8"
  }
 },
 "nbformat": 4,
 "nbformat_minor": 5
}
